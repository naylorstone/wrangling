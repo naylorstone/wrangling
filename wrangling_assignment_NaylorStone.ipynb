{
 "cells": [
  {
   "cell_type": "markdown",
   "id": "13ad028b-72b7-43ed-aa78-96fd4e518040",
   "metadata": {
    "id": "13ad028b-72b7-43ed-aa78-96fd4e518040"
   },
   "source": [
    "# Assignment: Data Wrangling\n",
    "## `! git clone https://github.com/DS3001/wrangling`\n",
    "## Do Q2, and one of Q1 or Q3."
   ]
  },
  {
   "cell_type": "markdown",
   "id": "5735a4d4-8be8-433a-a351-70eb8002e632",
   "metadata": {
    "id": "5735a4d4-8be8-433a-a351-70eb8002e632"
   },
   "source": [
    "**Q1.** Open the \"tidy_data.pdf\" document in the repo, which is a paper called Tidy Data by Hadley Wickham.\n",
    "\n",
    "  1. Read the abstract. What is this paper about?\n",
    "  2. Read the introduction. What is the \"tidy data standard\" intended to accomplish?\n",
    "  3. Read the intro to section 2. What does this sentence mean: \"Like families, tidy datasets are all alike but every messy dataset is messy in its own way.\" What does this sentence mean: \"For a given dataset, it’s usually easy to figure out what are observations and what are variables, but it is surprisingly difficult to precisely define variables and observations in general.\"\n",
    "  4. Read Section 2.2. How does Wickham define values, variables, and observations?\n",
    "  5. How is \"Tidy Data\" defined in section 2.3?\n",
    "  6. Read the intro to Section 3 and Section 3.1. What are the 5 most common problems with messy datasets? Why are the data in Table 4 messy? What is \"melting\" a dataset?\n",
    "  7. Why, specifically, is table 11 messy but table 12 tidy and \"molten\"?\n",
    "  8. Read Section 6. What is the \"chicken-and-egg\" problem with focusing on tidy data? What does Wickham hope happens in the future with further work on the subject of data wrangling?"
   ]
  },
  {
   "cell_type": "markdown",
   "id": "0d93ee20",
   "metadata": {},
   "source": [
    "1. This paper is about an organizational framework for cleaning data sets, that allows for easier data analysis. This framework turns columns into variables and rows into individual observations and each observational unit is a table.\n",
    "2. The author makes the point that despite data analytics's monumental importance in most recent studies, the actual cleaning of data is something that is often taken for granted or just not thought about. The \"tidy  data standard\" aims to standardize data cleaning through outlining the steps and most efficient ways to clean data that can then be readily used in analysis. \n",
    "3. The first sentence talks about how messy data sets can have a variety of problems (and sometimes no two alike) that make data analysis quite difficult. Tidy datasets, on the other hand, all have similar properties and can be delt with more broadly. The second sentence talks about how in data sets, it can be simply stated that the rows are observations and the columns are variables. But the actual choice to define the data in such a way doesn't have as clear of an indicator. \n",
    "4. A value is is what makes up a dataset and is usually a number or string. Values are organized into variables, which contain all values that measure the same thing, and observations, which contain all values measured to teh same unit. \n",
    "5. A tidy data set is a set in which each variable is a column, each observation is a row and each type of observational unit is a table. \n",
    "6. The 5 most common problems are column headers as values and not variable names, multiple varaibles stored in one column, variables stored in rows and columns, multiple types of observations in the same table, and single oberservations stored across multiple tables. The data in table 4 is messy since the columns are currently values of the variable of income, which should have its own column with its values. Melting a data set is taking columns that contain values of another variable and turning them into rows of that variable's column. \n",
    "7. Table 11 has values as columns (the different days) while Table 12 \"melts\" the data as it makes those days the values of the variable \"date\".\n",
    "8. The \"chicken-and-egg\" problem exists in tidy data is the author says that tidy data will always be linked with tidy tools as long as tidy data is \"only as useful\" as its tools. Wickham hopes that tidy data becomes a larger movement that is committed to a better system of data cleaning and organization"
   ]
  },
  {
   "cell_type": "markdown",
   "id": "da879ea7-8aac-48a3-b6c2-daea56d2e072",
   "metadata": {
    "id": "da879ea7-8aac-48a3-b6c2-daea56d2e072"
   },
   "source": [
    "**Q2.** This question provides some practice cleaning variables which have common problems.\n",
    "1. Numeric variable: For `./data/airbnb_hw.csv`, clean the `Price` variable as well as you can, and explain the choices you make. How many missing values do you end up with? (Hint: What happens to the formatting when a price goes over 999 dollars, say from 675 to 1,112?)\n",
    "2. Categorical variable: For the `./data/sharks.csv` data covered in the lecture, clean the \"Type\" variable as well as you can, and explain the choices you make.\n",
    "3. Dummy variable: For the pretrial data covered in the lecture, clean the `WhetherDefendantWasReleasedPretrial` variable as well as you can, and, in particular, replace missing values with `np.nan`.\n",
    "4. Missing values, not at random: For the pretrial data covered in the lecture, clean the `ImposedSentenceAllChargeInContactEvent` variable as well as you can, and explain the choices you make. (Hint: Look at the `SentenceTypeAllChargesAtConvictionInContactEvent` variable.)"
   ]
  },
  {
   "cell_type": "code",
   "execution_count": 5,
   "id": "b56695ed",
   "metadata": {},
   "outputs": [],
   "source": [
    "import pandas as pd\n",
    "import numpy as np\n",
    "import seaborn as sns\n",
    "airbnd = pd.read_csv('./airbnb_hw.csv', low_memory=False)\n",
    "sharks = pd.read_csv('./sharks.csv', low_memory=False)\n",
    "pretrial = pd.read_csv('./pretrial_data.csv', low_memory=False)"
   ]
  },
  {
   "cell_type": "code",
   "execution_count": 23,
   "id": "71b81474",
   "metadata": {},
   "outputs": [
    {
     "name": "stdout",
     "output_type": "stream",
     "text": [
      "[  145    37    28   199   549   149   250    90   270   290   170    59\n",
      "    49    68   285    75   100   150   700   125   175    40    89    95\n",
      "    99   499   120    79   110   180   143   230   350   135    85    60\n",
      "    70    55    44   200   165   115    74    84   129    50   185    80\n",
      "   190   140    45    65   225   600   109  1990    73   240    72   105\n",
      "   155   160    42   132   117   295   280   159   107    69   239   220\n",
      "   399   130   375   585   275   139   260    35   133   300   289   179\n",
      "    98   195    29    27    39   249   192   142   169  1000   131   138\n",
      "   113   122   329   101   475   238   272   308   126   235   315   248\n",
      "   128    56   207   450   215   210   385   445   136   247   118    77\n",
      "    76    92   198   205   299   222   245   104   153   349   114   320\n",
      "   292   226   420   500   325   307    78   265   108   123   189    32\n",
      "    58    86   219   800   335    63   229   425    67    87  1200   158\n",
      "   650   234   310   695   400   166   119    62   168   340   479    43\n",
      "   395   144    52    47   529   187   209   233    82   269   163   172\n",
      "   305   156   550   435   137   124    48   279   330  5000   134   378\n",
      "    97   277    64   193   147   186   264    30  3000   112    94   379\n",
      "    57   415   236   410   214    88    66    71   171   157   545  1500\n",
      "    83    96  1800    81   188   380   255   505    54    33   174    93\n",
      "   740   640  1300   440   599   357  1239   495   127  5999   178   348\n",
      "   152   242   183   253   750   259   365   273   197   397   103   389\n",
      "   355   559    38   203   999   141   162   333   698    46   360   895\n",
      "    10    41   206   281   449   388   212   102   201  2750  4750   432\n",
      "   675   167   390   298   339   194   302   211   595   191    53   361\n",
      "   480  8000  4500   459   997   345   216   218   111   735   276    91\n",
      "   490   850   398    36   775   267   625   336  2500   176   725  3750\n",
      "   469   106   460   287   575   227   263    25   228   208   177   880\n",
      "   148   116   685   470   217   164    61   645   699   405   252   319\n",
      "   268   419   343   525   311   840   154   294   950   409   184   257\n",
      "   204   241  2000   412   121   288   196   900   647   524  1750   309\n",
      "   510  1495  1700   799   383   372   492   327  1999   656   224   173\n",
      "   875  1170   795   690   146   465  1100   151   274   429   825   282\n",
      "   256  1111   620   271   161    51   855   579  1174   430    20   899\n",
      "   649   485   181   455  4000   243   342   590   560   374   437   232\n",
      "   359   985    31   244   254   723   237   428   370    34  1400   580\n",
      "  2520   221   749  1600  2695   306   202   680   570   520   223  2295\n",
      "   213  1065   346    24   286   296   266    26   995  1368   393   182\n",
      "   635   258   780   589   347  1250  1350   446  3200  1050  1650  1550\n",
      "   975   323  6500  2499  1850  2250   715   461   540   356   439   384\n",
      "   569  1900    22   785   626   830   318   444   321   401  1499   888\n",
      "   369   770   386   366   344   630   313   597   262   509 10000   278\n",
      "   312   789  1195   422    21   765  3500   945   326  3100  2486  3390\n",
      "  1356  2599   472   454   328   396   291] \n",
      "\n",
      "4985888\n"
     ]
    }
   ],
   "source": [
    "#QUESTION 1\n",
    "\n",
    "price = airbnd['Price']\n",
    "price = price.str.replace(',','') #getting rid of the commas in numbers over 999\n",
    "price = pd.to_numeric(price,errors='coerce') #converting all the values to numerics\n",
    "airbnd['Price'] = price\n",
    "del price\n",
    "print(airbnd['Price'].unique(), '\\n')\n",
    "print(sum(airbnd['Price']))"
   ]
  },
  {
   "cell_type": "code",
   "execution_count": 24,
   "id": "39e76e16",
   "metadata": {},
   "outputs": [
    {
     "data": {
      "text/plain": [
       "array(['Unprovoked', 'Provoked', nan, 'Watercraft'], dtype=object)"
      ]
     },
     "execution_count": 24,
     "metadata": {},
     "output_type": "execute_result"
    }
   ],
   "source": [
    "#QUESTION 2\n",
    "\n",
    "type1 = sharks['Type']\n",
    "type1 = type1.replace(['Sea Disaster', 'Boat','Boatomg','Boating'],'Watercraft') #all water issues under the same value of Watercraft\n",
    "type1 = type1.replace(['Questionable','Unconfirmed','Unverified','Invalid','Under investigation'], np.nan) #these values are not usable to data analysis\n",
    "sharks['Type'] = type1\n",
    "del type1\n",
    "sharks['Type'].unique()"
   ]
  },
  {
   "cell_type": "code",
   "execution_count": 45,
   "id": "a8adff6e",
   "metadata": {},
   "outputs": [
    {
     "data": {
      "text/plain": [
       "array([nan,  0.,  1.])"
      ]
     },
     "execution_count": 45,
     "metadata": {},
     "output_type": "execute_result"
    }
   ],
   "source": [
    "#QUESTION 3\n",
    "\n",
    "release = pretrial['released']\n",
    "release = release.replace(9, np.nan) #getting rid of the confusing 9 (there shouldn't be a 9 when 0 is no and 1 is yes)\n",
    "pretrial['released'] = release\n",
    "del release\n",
    "pretrial['released'].unique()"
   ]
  },
  {
   "cell_type": "code",
   "execution_count": 55,
   "id": "8e051f16",
   "metadata": {},
   "outputs": [
    {
     "name": "stdout",
     "output_type": "stream",
     "text": [
      "[           nan 6.00000000e+01 1.20000000e+01 9.85626283e-01\n",
      " 0.00000000e+00 3.60000000e+01 6.00000000e+00 2.40000000e+01\n",
      " 5.91375770e+00 1.20000000e+02 7.20000000e+01 1.19917864e+01\n",
      " 2.95687885e+00 8.40000000e+01 1.08000000e+02 3.00000000e+02\n",
      " 2.40000000e+02 1.80000000e+02 4.00000000e+00 9.60000000e+01\n",
      " 2.00000000e+00 5.40000000e+01 3.28542094e-01 4.40000000e+01\n",
      " 5.00000000e+00 1.15000000e+02 1.32000000e+02 4.80000000e+01\n",
      " 2.58000000e+02 3.40000000e+01 7.60000000e+01 1.64271047e-01\n",
      " 1.31416838e-01 1.11000000e+02 9.00000000e+00 3.00000000e+00\n",
      " 1.97125257e+00 3.69856263e+01 6.57084189e-02 3.54928131e+01\n",
      " 1.06492813e+02 8.00000000e+00 3.50000000e+01 1.83141684e+01\n",
      " 4.80000000e+02 3.20000000e+01 9.30000000e+01 2.34000000e+02\n",
      " 7.32000000e+02 1.16427105e+00 4.65708419e+00 2.10000000e+01\n",
      " 7.00000000e+00 4.49281314e+00 1.80000000e+01 6.00000000e+02\n",
      " 4.31642710e+01 1.79000000e+02 5.20000000e+01 3.00000000e+01\n",
      " 2.00000000e+01 1.92000000e+02 7.02000000e+02 1.40000000e+01\n",
      " 5.50000000e+01 5.30000000e+01 1.19055441e+01 1.14000000e+02\n",
      " 3.50061602e+01 6.80000000e+01 6.57084189e-01 4.66242300e+01\n",
      " 1.02000000e+02 6.50000000e+01 2.00000000e+02 5.70000000e+01\n",
      " 2.43285421e+01 1.21642710e+01 1.17000000e+02 8.14928131e+01\n",
      " 2.24928131e+01 1.98000000e+03 3.65708419e+00 5.60000000e+01\n",
      " 1.00000000e+01 2.79260780e+00 1.00000000e+00 4.70000000e+01\n",
      " 2.20000000e+01 1.50000000e+03 4.00000000e+01 2.84000000e+02\n",
      " 1.10000000e+01 1.18000000e+02 4.20000000e+01 1.62000000e+02\n",
      " 1.56000000e+02 4.72956879e+01 1.05000000e+02 5.10000000e+01\n",
      " 2.46000000e+02 2.90000000e+01 7.50000000e+01 3.24000000e+02\n",
      " 3.60000000e+02 3.44804928e+01 1.20328542e+02 5.99260780e+01\n",
      " 6.60000000e+01 5.99917864e+01 6.60000000e+02 5.11642710e+01\n",
      " 1.49568789e+01 3.98562628e+00 7.80000000e+01 2.28000000e+02\n",
      " 1.47843943e+00 6.20000000e+01 4.80000000e+00 8.60000000e+01\n",
      " 1.68000000e+02 2.30000000e+01 3.30000000e+01 4.80328542e+01\n",
      " 7.20000000e+02 3.48000000e+02 1.20000000e+03 2.70000000e+01\n",
      " 4.90000000e+01 8.70000000e+01 4.20000000e+02 6.30000000e+01\n",
      " 7.99260780e+01 5.70349076e+01 4.99712526e+01 5.94928131e+01\n",
      " 1.70000000e+01 2.38492813e+02 6.09856263e+01 1.26000000e+02\n",
      " 4.50000000e+01 1.58000000e+02 2.16000000e+02 2.27000000e+02\n",
      " 4.29568789e+01 4.45000000e+02 7.09527721e+01 5.16000000e+02\n",
      " 1.77821355e+02 1.75200000e+03 9.00000000e+01 1.08000000e+03\n",
      " 1.41000000e+02 4.82956879e+00 2.30000000e+02 3.10000000e+01\n",
      " 2.20800000e+03 5.25133470e+01 6.90000000e+01 2.60000000e+01\n",
      " 3.34928131e+01 1.40000000e+02 1.31000000e+02 3.44000000e+02\n",
      " 2.19000000e+02 1.01000000e+02 7.10000000e+01 5.90000000e+01\n",
      " 5.80000000e+01 1.20197125e+02 6.70000000e+01 3.54004107e+01\n",
      " 3.28542094e+00 4.01642710e+01 9.10000000e+01 1.77412731e+00\n",
      " 1.55000000e+02 3.44928131e+01 8.10000000e+01 9.23285421e+01\n",
      " 3.54825462e+00 2.07000000e+02 7.40000000e+01 5.18000000e+02\n",
      " 2.80000000e+01 8.95687885e+00 2.37000000e+02 4.04673511e+02\n",
      " 1.81642710e+01 1.07433265e+01 5.51000000e+02 3.90000000e+01\n",
      " 1.50000000e+01 1.24000000e+02 4.30000000e+01 1.76000000e+02\n",
      " 1.94928131e+01 4.82000000e+02 1.29000000e+02 8.80000000e+01\n",
      " 4.60000000e+01 4.58542094e+01 1.28628337e+02 1.36492813e+02\n",
      " 1.08328542e+02 5.00000000e+01 3.63663244e+02 2.88000000e+02\n",
      " 2.50000000e+02 1.07000000e+02 8.10225873e+01 4.44000000e+02\n",
      " 2.05000000e+02 1.06570842e+01 1.90000000e+01 6.69856263e+01\n",
      " 3.84928131e+01 2.64000000e+02 2.76000000e+02 1.73000000e+02\n",
      " 2.22000000e+02 1.44000000e+02 2.94000000e+02 3.36000000e+02\n",
      " 4.31000000e+02 4.50000000e+02 7.30000000e+01 9.93285421e+01\n",
      " 1.28000000e+02 3.08069815e+01 3.15256674e+01 1.27000000e+02\n",
      " 2.02000000e+02 5.53285421e+01 8.90000000e+01 2.42000000e+02\n",
      " 1.31416838e+00 1.02900000e+03 7.88501027e-01 1.94858316e+02\n",
      " 3.99000000e+02 3.96570842e+01 5.69568789e+01 1.98000000e+02\n",
      " 1.20985626e+02 4.76570842e+01 1.48000000e+02 6.89938398e+00\n",
      " 6.53285421e+01 5.95277207e+00 9.85626283e-02 3.32854209e+00\n",
      " 3.94250513e+00 1.29856263e+01 6.98562628e+00 1.31498973e+01\n",
      " 1.51642710e+01 1.71971253e+01 1.79137577e+01 1.04000000e+02\n",
      " 2.12000000e+02 2.46570842e+01 7.26570842e+01 2.98562628e+00\n",
      " 1.44985626e+02 3.19712526e+01 1.83000000e+02 4.98562628e+00\n",
      " 1.18213552e+01 2.52000000e+02 1.23942505e+01 4.24928131e+01\n",
      " 1.01642710e+01 1.11642710e+01 5.49281314e+00 5.96632444e+01\n",
      " 1.23285421e+01 4.89856263e+01 2.40985626e+02 2.65708419e+00\n",
      " 5.40000000e+02 2.97125257e+00 6.32854209e+00 2.36632444e+01\n",
      " 1.33657084e+02 3.53285421e+01 4.56000000e+02 1.03000000e+02\n",
      " 1.72279261e+00 1.26570842e+01 1.16570842e+01 6.03285421e+01\n",
      " 3.78850103e+00 5.76000000e+02 2.13141684e+00 4.92000000e+02\n",
      " 1.49856263e+01 2.49856263e+01 6.19712526e+01 5.65708419e+00\n",
      " 1.60000000e+01 4.21642710e+01 4.92813142e-01 1.38000000e+02\n",
      " 1.33141684e+01 1.18932238e+01 5.32854209e+00 9.50000000e+01\n",
      " 6.26570842e+01 3.08829569e+00 1.18275154e+01 1.64271047e+00\n",
      " 4.79917864e+01 4.27104723e+00 8.32854209e+00 3.31416838e+00\n",
      " 7.00000000e+01 7.70000000e+01 1.09856263e+00 4.81642710e+01\n",
      " 2.74928131e+01 6.93839836e+00 1.01100000e+03 6.89938398e-01\n",
      " 1.11704312e+00 1.49281314e+00 4.16427105e+00 1.19712526e+00\n",
      " 4.07392197e+00 1.88000000e+02 1.13285421e+01 3.28542094e-02\n",
      " 4.32000000e+02 1.19527721e+01 3.64928131e+01 2.39835729e+01\n",
      " 9.98562628e+00 9.80000000e+01 3.63285421e+01 1.12000000e+02\n",
      " 3.94250513e-01 1.30000000e+01 2.62833676e-01 1.37987680e+01\n",
      " 5.88706366e+00 3.54000000e+02 5.91991786e+00 2.41642710e+01\n",
      " 6.29568789e+01 4.59958932e+00 1.23000000e+02 2.32854209e+00\n",
      " 2.39240246e+01 2.04000000e+02 1.97000000e+02 1.74000000e+02\n",
      " 1.61498973e+01 8.40000000e+02 4.40000000e+02 9.89568788e+01\n",
      " 1.79527721e+01 6.39425051e+01 6.01314168e+01 1.21314168e+01\n",
      " 1.72952772e+02 1.97125257e-01 1.38164271e+02 4.92813142e+00\n",
      " 9.19917864e-01 1.89856263e+01 6.65708419e+00 2.85420945e+00\n",
      " 8.91375770e+00 1.46000000e+02 1.24928131e+01 5.58521561e-01\n",
      " 7.22792608e-01 5.82135524e+00 8.49856263e+01 6.16427105e+00\n",
      " 1.59856263e+01 6.45585216e+01 3.82997947e+01 1.19589322e+01\n",
      " 3.12114990e+00 1.26328542e+02 5.16427105e+00 6.40000000e+01\n",
      " 4.26570842e+01 3.12000000e+02 1.99712526e+01 8.23285421e+01\n",
      " 2.39712526e+01 1.76242300e+01 1.21971253e+02 5.96550308e+01\n",
      " 1.32854209e+00 7.97125257e+00 1.91991786e+00 5.25667351e-01\n",
      " 9.32854209e+00 4.29856263e+01 4.19137577e+01 7.29856263e+01\n",
      " 1.24784394e+01 5.19096509e+00 4.73000000e+02 1.66570842e+01\n",
      " 1.09000000e+02 8.63285421e+01 4.10000000e+01 1.90554415e+00\n",
      " 9.41642710e+01 3.02000000e+02 4.39425051e+00 1.08213552e+01\n",
      " 1.83285421e+01 1.54000000e+02 8.30000000e+01 1.10956879e+02\n",
      " 2.26000000e+02 9.60328542e+01 4.82135524e+00 3.03285421e+01\n",
      " 3.79712526e+01 5.04640657e+01 2.86000000e+02 9.90000000e+01\n",
      " 9.94928131e+01 2.66119097e+00 7.09712526e+01 1.39712526e+01\n",
      " 2.36570842e+01 4.59958932e-01 1.32492813e+02 2.83000000e+02\n",
      " 4.93141684e+01 2.79856263e+01 3.80000000e+01 7.65708419e+00\n",
      " 8.36550308e+01 1.09199179e+01 1.62328542e+02 3.70000000e+01\n",
      " 1.32328542e+02 3.59527721e+01 1.65000000e+02 1.09856263e+01\n",
      " 2.01642710e+01 2.59137577e+00 1.75000000e+02 1.80985626e+02\n",
      " 1.03285421e+01 3.61642710e+01 1.20657084e+02 2.32000000e+02\n",
      " 1.52000000e+02 8.98562628e+00 1.67000000e+02 1.10657084e+01\n",
      " 1.12032854e+01 5.19712526e+00 3.16427105e+00 6.01642710e+01\n",
      " 1.18275154e+00 2.11642710e+01 2.19712526e+00 4.19712526e+00\n",
      " 2.62833676e+00 1.19952772e+02 1.19958932e+02 9.49281314e+00\n",
      " 5.25667351e+00 1.53285421e+01 2.82135524e+00 1.92985626e+02\n",
      " 4.86570842e+01 5.95687885e+00 2.29979466e+00 9.60000000e+02\n",
      " 2.36550308e+00 1.16000000e+02 1.95133470e+01 1.65708419e+00]\n"
     ]
    }
   ],
   "source": [
    "#QUESTION 4\n",
    "\n",
    "pretrial.columns.tolist()\n",
    "imposed = pretrial['ImposedSentenceAllChargeInContactEvent']\n",
    "sentence = pretrial['SentenceTypeAllChargesAtConvictionInContactEvent']\n",
    "imposed = pd.to_numeric(imposed, errors='coerce') #making the values numeric\n",
    "imposed = imposed.mask(sentence ==4, 0) #most of the null values occur where the sentencing was equal to 4, must be where charges were dismissed\n",
    "imposed.mask(sentence == 9, np.nan) #without any info on where sentence is 9, its better to keep them as null values\n",
    "sum(imposed.isnull())\n",
    "imposed.unique()\n",
    "pretrial['ImposedSentenceAllChargeInContactEvent'] = imposed\n",
    "del imposed\n",
    "del sentence\n",
    "print(pretrial['ImposedSentenceAllChargeInContactEvent'].unique())"
   ]
  },
  {
   "cell_type": "markdown",
   "id": "649494cd-cfd6-4f80-992a-9994fc19e1d5",
   "metadata": {
    "id": "649494cd-cfd6-4f80-992a-9994fc19e1d5"
   },
   "source": [
    "**Q3.** Many important datasets contain a race variable, typically limited to a handful of values often including Black, White, Asian, Latino, and Indigenous. This question looks at data gathering efforts on this variable by the U.S. Federal government.\n",
    "\n",
    "1. How did the most recent US Census gather data on race?\n",
    "2. Why do we gather these data? What role do these kinds of data play in politics and society? Why does data quality matter?\n",
    "3. Please provide a constructive criticism of how the Census was conducted: What was done well? What do you think was missing? How should future large scale surveys be adjusted to best reflect the diversity of the population? Could some of the Census' good practices be adopted more widely to gather richer and more useful data?\n",
    "4. How did the Census gather data on sex and gender? Please provide a similar constructive criticism of their practices.\n",
    "5. When it comes to cleaning data, what concerns do you have about protected characteristics like sex, gender, sexual identity, or race? What challenges can you imagine arising when there are missing values? What good or bad practices might people adopt, and why?\n",
    "6. Suppose someone invented an algorithm to impute values for protected characteristics like race, gender, sex, or sexuality. What kinds of concerns would you have?"
   ]
  },
  {
   "cell_type": "markdown",
   "id": "a463af60",
   "metadata": {},
   "source": [
    "1. The US Census gathered data on race through a \"check all that apply\" option with many of the same categories listed above.\n",
    "2. This data is gathered in large part so that the federal government can see economic, social, and polical information across different races. This information can play a large part in how the government decides to give out aid, monitors voting activity (and therefore individual parties act accordingly during elections), how to write other types of policy. Data quality matters as this information is used in many ways as stated above with actual effects to the lives of citizens in the United States.\n",
    "3. The census has done well in increasing the number of options in races and allowing multiple to be selected as it reflects the diverse identities across the US. While the racial categories are an improvement, the Census should aim at allowing the selection of different ethnicities (like different ethnicities in Asia) so that citizens can give a better view at their backgrounds. Perhaps integrating questions on race and ethnicity to get a more holistic view of the backgrounds of those filling out the servey would be a good practice for any larg scal surveys. I think the Census' good practices could be adopted more widely with the greater options helping with greater participation. \n",
    "4. For sex, the Census only allows two options (male and female) with no further options for specifying gender beyond. This could lead to decreased participation with those who fill out the survey may feel that they cannot show their true identities with such binary options.\n",
    "5. Th only concerns I have is ensuring the data accurately reflects those in the survey so that certain groups are not misrepresented, which would have major reprocussions. Missing values could lead to biases in decision making when using the Census data. People might adopt the bad practices of omitting and not account data with missing values. \n",
    "6. I would be concerned with any sort of biases that the algorithm might have within. "
   ]
  },
  {
   "cell_type": "code",
   "execution_count": null,
   "id": "b2775429",
   "metadata": {},
   "outputs": [],
   "source": []
  }
 ],
 "metadata": {
  "colab": {
   "provenance": []
  },
  "kernelspec": {
   "display_name": "Python 3",
   "language": "python",
   "name": "python3"
  },
  "language_info": {
   "codemirror_mode": {
    "name": "ipython",
    "version": 3
   },
   "file_extension": ".py",
   "mimetype": "text/x-python",
   "name": "python",
   "nbconvert_exporter": "python",
   "pygments_lexer": "ipython3",
   "version": "3.8.8"
  }
 },
 "nbformat": 4,
 "nbformat_minor": 5
}
